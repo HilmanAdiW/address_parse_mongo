{
 "cells": [
  {
   "cell_type": "code",
   "execution_count": 2,
   "metadata": {},
   "outputs": [],
   "source": [
    "import textdistance\n",
    "from metaphone import doublemetaphone"
   ]
  },
  {
   "cell_type": "code",
   "execution_count": 4,
   "metadata": {},
   "outputs": [
    {
     "name": "stdout",
     "output_type": "stream",
     "text": [
      "insert first word here : test\n",
      "insert second word here : taste\n",
      "================================================================\n",
      "without metaphone\n",
      "hamming = 0.6\n",
      "lavenshtein =0.6\n",
      "jaro = 0.7833333333333333\n",
      "================================================================\n",
      "with metaphone\n",
      "hamming = 1.0\n",
      "lavenshtein =1.0\n",
      "jaro = 1.0\n"
     ]
    }
   ],
   "source": [
    "text1 = input (\"insert first word here : \")\n",
    "text2 = input (\"insert second word here : \")\n",
    "\n",
    "def sim_text(text1,text2):\n",
    "    print(\"hamming = \"+str(textdistance.hamming.normalized_similarity(text1, text2)))\n",
    "    #a=textdistance.hamming.normalized_similarity(text1, text2)\n",
    "    print(\"lavenshtein =\"+str(textdistance.levenshtein.normalized_similarity(text1, text2)))\n",
    "    #b=textdistance.levenshtein.normalized_similarity(text1, text2)\n",
    "    print(\"jaro = \"+str(textdistance.jaro.normalized_similarity(text1, text2)))\n",
    "    #c=textdistance.jaro.normalized_similarity(text1, text2)\n",
    "\n",
    "def meta_style(text1,text2):\n",
    "    an = doublemetaphone(text1)\n",
    "    x = an[0]\n",
    "    bn= doublemetaphone(text2)\n",
    "    y = bn[0]\n",
    "    c = sim_text(x,y)\n",
    "\n",
    "print(\"================================================================\")\n",
    "print(\"without metaphone\")\n",
    "sim_text(text1,text2)\n",
    "print(\"================================================================\")\n",
    "print(\"with metaphone\")\n",
    "meta_style(text1,text2)"
   ]
  }
 ],
 "metadata": {
  "kernelspec": {
   "display_name": "Python 3",
   "language": "python",
   "name": "python3"
  },
  "language_info": {
   "codemirror_mode": {
    "name": "ipython",
    "version": 3
   },
   "file_extension": ".py",
   "mimetype": "text/x-python",
   "name": "python",
   "nbconvert_exporter": "python",
   "pygments_lexer": "ipython3",
   "version": "3.7.2"
  }
 },
 "nbformat": 4,
 "nbformat_minor": 2
}
